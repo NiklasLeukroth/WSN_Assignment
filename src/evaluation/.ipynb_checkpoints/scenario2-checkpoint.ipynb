{
 "cells": [
  {
   "cell_type": "markdown",
   "id": "703cfe01-4d24-436f-a03c-e55534192482",
   "metadata": {},
   "source": [
    "# Scenario 2"
   ]
  },
  {
   "cell_type": "code",
   "execution_count": null,
   "id": "152c0e23-777a-4cea-95cb-a90149722f2d",
   "metadata": {},
   "outputs": [],
   "source": [
    "import pandas as pd\n",
    "import altair as alt\n",
    "import numpy as np"
   ]
  },
  {
   "cell_type": "code",
   "execution_count": null,
   "id": "06987c19-d795-4dba-8a10-eb3c2657b9e0",
   "metadata": {},
   "outputs": [],
   "source": [
    "def read_logs(experiment:int):\n",
    "    tx_logs = pd.read_csv(f\"../logs/s2_v{experiment}_transmitter.csv\", sep=';')\n",
    "    tc_logs = pd.read_csv(f\"../logs/s2_v{experiment}_transceiver.csv\", sep=';')\n",
    "    rx_logs = pd.read_csv(f\"../logs/s2_v{experiment}_receiver.csv\", sep=';')\n",
    "    \n",
    "    tx_logs[\"ROLE\"] = [\"Tx\"]*tx_logs.shape[0]\n",
    "    tc_logs[\"ROLE\"] = [\"TC\"]*tc_logs.shape[0]\n",
    "    rx_logs[\"ROLE\"] = [\"Rx\"]*rx_logs.shape[0]\n",
    "    \n",
    "    tx_logs[\"EXPERIMENT\"] = [experiment]*tx_logs.shape[0]\n",
    "    tc_logs[\"EXPERIMENT\"] = [experiment]*tc_logs.shape[0]\n",
    "    rx_logs[\"EXPERIMENT\"] = [experiment]*rx_logs.shape[0]\n",
    "    \n",
    "    return pd.concat([tx_logs, tc_logs, rx_logs], ignore_index=True)"
   ]
  },
  {
   "cell_type": "code",
   "execution_count": null,
   "id": "2cbcb1b7-01aa-4a3d-ae8d-e10c8b1f0467",
   "metadata": {},
   "outputs": [],
   "source": [
    "def read_experiments():\n",
    "    experiments = pd.read_csv(\"../logs/s2_experiments.csv\", sep=';')\n",
    "    \n",
    "    experiments[\"INNER_VELOCITY\"] = (2*np.pi*experiments[\"INNER_RADIUS_M\"]/experiments[\"DURATION_S\"])*experiments[\"CYCLE\"]\n",
    "    experiments[\"OUTER_VELOCITY\"] = (2*np.pi*experiments[\"OUTER_RADIUS_M\"]/experiments[\"DURATION_S\"])*experiments[\"CYCLE\"] * (experiments[\"RELATIVE_MOVEMENT\"] != \"Tx stationary\")\n",
    "    experiments[\"STATIONARY_INNER_VELOCITY\"] = experiments[\"INNER_VELOCITY\"] * (experiments[\"RELATIVE_MOVEMENT\"] == \"Tx stationary\")\n",
    "    \n",
    "    return experiments"
   ]
  },
  {
   "cell_type": "markdown",
   "id": "010148e7-6fa7-41a6-acdc-f2b2c9fd6bd1",
   "metadata": {},
   "source": [
    "## Experiments"
   ]
  },
  {
   "cell_type": "code",
   "execution_count": null,
   "id": "0dd98c52-fde5-471c-9b27-87c5ad8333c1",
   "metadata": {},
   "outputs": [],
   "source": [
    "logs = pd.DataFrame([], columns=['SEQ', 'ACK', 'TIMESTAMP', 'PAYLOAD', 'RSSI', 'LQI', 'ROLE', 'EXPERIMENT'])\n",
    "\n",
    "for experiment in range(1, 6):\n",
    "    logs = pd.concat([logs, read_logs(experiment)], ignore_index=True)\n",
    "\n",
    "experiments =  read_experiments()\n",
    "logs_exp = pd.merge(logs, experiments, on=\"EXPERIMENT\")\n",
    "\n",
    "tx_logs = logs_exp[logs_exp[\"ROLE\"] == \"Tx\"]\n",
    "tc_logs = logs_exp[logs_exp[\"ROLE\"] == \"TC\"]\n",
    "rx_logs = logs_exp[logs_exp[\"ROLE\"] == \"Rx\"]"
   ]
  },
  {
   "cell_type": "markdown",
   "id": "ca2e5ead-ba24-4ad1-8e55-373b20d6d410",
   "metadata": {
    "tags": []
   },
   "source": [
    "### Packet loss"
   ]
  },
  {
   "cell_type": "code",
   "execution_count": null,
   "id": "84ac79e7-331d-40bf-9da7-d6c7bafd9415",
   "metadata": {},
   "outputs": [],
   "source": [
    "self_joined_logs = logs.set_index([\"EXPERIMENT\", \"ROLE\", \"SEQ\"]).join(logs.set_index([\"EXPERIMENT\", \"ROLE\", \"SEQ\"]), lsuffix=\"_l\", rsuffix=\"_r\").reset_index()\n",
    "acked_logs = self_joined_logs.loc[(self_joined_logs[\"ACK_l\"] == 0) & (self_joined_logs[\"ACK_r\"] == 255)]\n",
    "acked_tx_logs = acked_logs[acked_logs[\"ROLE\"]==\"Tx\"]"
   ]
  },
  {
   "cell_type": "code",
   "execution_count": null,
   "id": "8de437e0-5060-4d2c-931b-769ea12cb4a0",
   "metadata": {},
   "outputs": [],
   "source": [
    "tx_successes = acked_tx_logs.groupby(\"EXPERIMENT\").count().reset_index()[[\"EXPERIMENT\", \"SEQ\"]].rename({\"SEQ\": \"ACKED_TRANSMISSIONS\"}, axis='columns').set_index(\"EXPERIMENT\")\n",
    "tx_amount = tx_logs[tx_logs[\"ACK\"] == 0].groupby(\"EXPERIMENT\").count().reset_index()[[\"EXPERIMENT\", \"SEQ\"]].rename({\"SEQ\": \"TRANSMISSIONS\"}, axis='columns').set_index(\"EXPERIMENT\")\n",
    "\n",
    "success_stats = tx_successes.merge(tx_amount, on=\"EXPERIMENT\")\n",
    "\n",
    "success_stats[\"LOST_TRANSMISSIONS\"] = success_stats[\"TRANSMISSIONS\"] - success_stats[\"ACKED_TRANSMISSIONS\"]\n",
    "success_stats[\"LOSS_RATE\"] = success_stats[\"LOST_TRANSMISSIONS\"] / success_stats[\"TRANSMISSIONS\"]\n",
    "\n",
    "success_stats"
   ]
  },
  {
   "cell_type": "code",
   "execution_count": null,
   "id": "63537bd5-5baa-47fc-8bec-72e036247c3d",
   "metadata": {},
   "outputs": [],
   "source": [
    "base = alt.Chart(success_stats.reset_index(), title=\"Packet Loss Rates in Scenario 2\").transform_calculate(\n",
    "    frac=\"datum.LOST_TRANSMISSIONS + '/' + datum.TRANSMISSIONS\"\n",
    ").encode(\n",
    "    x=alt.Y(\"LOSS_RATE:Q\", title=\"Packet Loss Rate\"),\n",
    "    y=alt.Y(\"EXPERIMENT:O\", title=\"Experiment\"),\n",
    "    text=\"frac:N\"\n",
    ")\n",
    "\n",
    "PL_Chart = base.mark_bar(color=\"#FF7777\") + base.mark_text(align='left', dx=2)\n",
    "PL_Chart"
   ]
  },
  {
   "cell_type": "markdown",
   "id": "3e3e444d-c960-4eba-8c00-04d0c1cf2c7d",
   "metadata": {
    "tags": []
   },
   "source": [
    "### Round Trip Times (RTT)"
   ]
  },
  {
   "cell_type": "code",
   "execution_count": null,
   "id": "34c8b1a6-c91b-4a21-bfb3-3538ea0e9fa1",
   "metadata": {},
   "outputs": [],
   "source": [
    "RTTs = pd.DataFrame((tx_logs[tx_logs[\"ACK\"]==255].set_index([\"EXPERIMENT\", \"SEQ\"])[\"TIMESTAMP\"] - tx_logs[tx_logs[\"ACK\"]==0].set_index([\"EXPERIMENT\", \"SEQ\"])[\"TIMESTAMP\"]))\n",
    "RTTs.columns=[\"RTT\"]\n",
    "RTTs = RTTs.reset_index()\n",
    "\n",
    "RTTs[\"FROM\"] = [\"Tx\"]*RTTs.shape[0]\n",
    "RTTs[\"TO\"] = [\"Rx\"]*RTTs.shape[0]\n",
    "RTTs"
   ]
  },
  {
   "cell_type": "code",
   "execution_count": null,
   "id": "2f865444-0b44-4d4b-b5e5-8805c834e716",
   "metadata": {},
   "outputs": [],
   "source": [
    "experiments"
   ]
  },
  {
   "cell_type": "code",
   "execution_count": null,
   "id": "0723ca2d-8f54-4c51-84f1-b063bc776846",
   "metadata": {},
   "outputs": [],
   "source": [
    "alt.Chart(RTTs, title=\"Average Round Trip Times in Scenario 2\").mark_bar().encode(\n",
    "    x=\"EXPERIMENT:O\",\n",
    "    y=alt.Y(\"average(RTT):Q\", title=\"average RTT (ms)\")\n",
    ")"
   ]
  },
  {
   "cell_type": "code",
   "execution_count": null,
   "id": "355f96e9-d1e2-4d1e-bd34-02f584eae969",
   "metadata": {},
   "outputs": [],
   "source": [
    "alt.Chart(RTTs, title=\"Round Trip Times in Scenario 2\").mark_bar().encode(\n",
    "    x=\"SEQ:O\",\n",
    "    y=alt.Y(\"RTT:Q\", title=\"RTT (ms)\"),\n",
    "    row=\"EXPERIMENT:N\"\n",
    ")"
   ]
  },
  {
   "cell_type": "markdown",
   "id": "35bf779d-291e-4230-a126-07a791235150",
   "metadata": {
    "tags": []
   },
   "source": [
    "### Metrics"
   ]
  },
  {
   "cell_type": "code",
   "execution_count": null,
   "id": "ff243705-81e4-4f3c-8bd9-0c788287d038",
   "metadata": {},
   "outputs": [],
   "source": [
    "Metrics_df = logs.loc[\n",
    "    ((logs[\"ROLE\"] == \"TC\") | (logs[\"ROLE\"] == \"Rx\"))\n",
    "    & (logs[\"ACK\"] == 0)\n",
    "].reset_index()[[\"EXPERIMENT\", \"ROLE\", \"SEQ\", \"RSSI\", \"LQI\"]].rename({\"ROLE\": \"TO\"}, axis=\"columns\")\n",
    "\n",
    "Metrics_df[\"FROM\"] = [\"Tx\" if Metrics_df[\"TO\"][i] == \"TC\" else \"TC\" for i in range(Metrics_df.shape[0])]\n",
    "\n",
    "Metrics_df[\"index\"] = Metrics_df[\"SEQ\"] - pd.merge(Metrics_df[[\"SEQ\", \"EXPERIMENT\"]], Metrics_df.groupby(\"EXPERIMENT\").min()[\"SEQ\"], on=\"EXPERIMENT\")[\"SEQ_y\"]\n",
    "Metrics_df[\"index\"] = Metrics_df[\"index\"] + 0.5*(Metrics_df[\"TO\"] == \"Rx\")\n",
    "\n",
    "Metrics_df_with_RTT = pd.concat([Metrics_df, RTTs])"
   ]
  },
  {
   "cell_type": "markdown",
   "id": "5fb84f1a-55d8-4094-86a2-1b246b1e7e0b",
   "metadata": {
    "tags": []
   },
   "source": [
    "### RSSI"
   ]
  },
  {
   "cell_type": "code",
   "execution_count": null,
   "id": "82a8d355-b0fd-4472-9030-8678b3fe2560",
   "metadata": {},
   "outputs": [],
   "source": [
    "RSSI_Chart = alt.Chart(Metrics_df, title=\"Received Signal Strength Indicator (RSSI)\").mark_bar().transform_calculate(\n",
    "    channel=\"datum.FROM + ' ⇾ ' + datum.TO\"\n",
    ").encode(\n",
    "    x=alt.X('channel:N', sort=\"descending\"),\n",
    "    y=alt.Y(\"average(RSSI)\", title = \"Average of RSSI (dBm)\"),\n",
    "    color=alt.Color('channel:N', sort=\"descending\"),\n",
    "    column=alt.Color(\"EXPERIMENT:N\", title=\"Experiment\")\n",
    ")\n",
    "alt.vconcat(RSSI_Chart, PL_Chart)"
   ]
  },
  {
   "cell_type": "code",
   "execution_count": null,
   "id": "b6a5e7fb-1d1f-4f20-b5b8-d086b180d643",
   "metadata": {},
   "outputs": [],
   "source": [
    "alt.Chart(Metrics_df, title=\"Received Signal Strength Indicator (RSSI)\").mark_bar().transform_calculate(\n",
    "    channel=\"datum.FROM + ' ⇾ ' + datum.TO\"\n",
    ").encode(\n",
    "    x=alt.X('channel:N', sort=\"descending\"),\n",
    "    y=alt.Y(\"variance(RSSI)\", title = \"Variance of RSSI (dBm)\"),\n",
    "    color=alt.Color('channel:N', sort=\"descending\"),\n",
    "    column=\"EXPERIMENT:N\"\n",
    ")"
   ]
  },
  {
   "cell_type": "code",
   "execution_count": null,
   "id": "090957fe-4e1a-41e6-92a6-96c4dbd494fa",
   "metadata": {},
   "outputs": [],
   "source": [
    "alt.Chart(Metrics_df, title=\"Received Signal Strength Indicator (RSSI)\").mark_bar(\n",
    "    width=1\n",
    ").transform_calculate(\n",
    "    channel=\"datum.FROM + ' ⇾ ' + datum.TO\"\n",
    ").encode(\n",
    "    x=alt.X('index', title=None),\n",
    "    y=alt.Y(\"RSSI\", title = \"RSSI (dBm)\"),\n",
    "    color=alt.Color('channel:N', sort=\"descending\"),\n",
    "    column=\"EXPERIMENT:N\"\n",
    ")"
   ]
  },
  {
   "cell_type": "markdown",
   "id": "8395f8b7-de85-4e1a-864d-7ccc5ed35409",
   "metadata": {
    "tags": []
   },
   "source": [
    "### LQI"
   ]
  },
  {
   "cell_type": "code",
   "execution_count": null,
   "id": "bba12b71-88c9-4287-95e4-4da1386def29",
   "metadata": {},
   "outputs": [],
   "source": [
    "alt.Chart(Metrics_df, title=\"Link Quality Indicator (LQI)\").mark_bar().transform_calculate(\n",
    "    channel=\"datum.FROM + ' ⇾ ' + datum.TO\"\n",
    ").encode(\n",
    "    column=\"EXPERIMENT:N\",\n",
    "    y=alt.Y(\"average(LQI)\", title = \"average LQI\"),\n",
    "    color=alt.Color('channel:N', sort=\"descending\"),\n",
    "    x=alt.X('channel:N', sort=\"descending\")\n",
    ")"
   ]
  },
  {
   "cell_type": "code",
   "execution_count": null,
   "id": "3fdf0f35-0cff-4208-85f6-b2a2e70bd684",
   "metadata": {},
   "outputs": [],
   "source": [
    "alt.Chart(Metrics_df, title=\"Link Quality Indicator (LQI)\").mark_bar(\n",
    "    width=1\n",
    ").transform_calculate(\n",
    "    channel=\"datum.FROM + ' ⇾ ' + datum.TO\"\n",
    ").encode(\n",
    "    x=alt.X('index', title=None),\n",
    "    y=alt.Y(\"LQI\", title = \"LQI (dBm)\"),\n",
    "    color=alt.Color('channel:N', sort=\"descending\"),\n",
    "    column=\"EXPERIMENT:N\"\n",
    ")"
   ]
  },
  {
   "cell_type": "markdown",
   "id": "04749118-e168-4f19-98cb-b370ce99f8b9",
   "metadata": {},
   "source": [
    "# Evaluation"
   ]
  },
  {
   "cell_type": "code",
   "execution_count": null,
   "id": "16dea248-30c6-485b-b463-0b363512b81a",
   "metadata": {},
   "outputs": [],
   "source": [
    "title_of = {\n",
    "    \"RTT\": \"RTT (ms)\",\n",
    "    \"RSSI\": \"RSSI (dBm)\",\n",
    "    \"LQI\": \"LQI\",\n",
    "    \"ROLE\": \"Role\",\n",
    "    \"MOVING_ROLE\": \"Moving Role\",\n",
    "    \"PAYLOAD_LENGTH\": \"PLL\",\n",
    "    \"VELOCITY\": \"Velocity (m/s)\",\n",
    "    \"INNER_RADIUS_M\": \"IR (m)\",\n",
    "    \"OUTER_RADIUS_M\": \"Outer Radius (m)\",\n",
    "    \"RELATIVE_MOVEMENT\": \"RM\",\n",
    "    \"EXPERIMENT\": \"Experiment\"\n",
    "}\n",
    "\n",
    "long_title_of = {\n",
    "    \"RTT\": \"Round Trip Time\",\n",
    "    \"RSSI\": \"Received Signal Strength Indicator\",\n",
    "    \"LQI\": \"Link Quality Indicator\",\n",
    "    \"PAYLOAD_LENGTH\": \"Payload Length\",\n",
    "    \"RELATIVE_MOVEMENT\": \"Relative Movement\",\n",
    "    \"INNER_RADIUS_M\": \"Inner Radius (m)\"\n",
    "}"
   ]
  },
  {
   "cell_type": "code",
   "execution_count": null,
   "id": "7c78d06f-5046-4075-968a-762725edce5a",
   "metadata": {},
   "outputs": [],
   "source": [
    "from pandas.api.types import is_numeric_dtype\n",
    "\n",
    "def make_average_chart(data:pd.DataFrame, subject:str, column:str, digits=0, statistic=\"average\"):\n",
    "    base = alt.Chart(\n",
    "        data, title=long_title_of[subject]\n",
    "    ).transform_calculate(\n",
    "        channel=\"datum.FROM + ' ⇾ ' + datum.TO\"\n",
    "    ).encode(\n",
    "        x=alt.X(f\"{column}:O\", title=title_of[column], axis=alt.Axis() if not is_numeric_dtype(data[column]) else alt.Axis(format=f',.{digits}f')),\n",
    "        y=alt.Y(f\"{statistic}({subject}):Q\", title=f\"{statistic} of {title_of[subject]}\"),\n",
    "        color=alt.Color(f\"{column}:N\", title=title_of[column], legend=None),\n",
    "        column=alt.Column(\"channel:N\", title=\"channel\", sort=\"descending\")\n",
    "    )\n",
    "    return base.mark_bar()\n",
    "\n",
    "def average_chart(exps, subject:str, column:str, digits=0, statistic=\"average\"):\n",
    "    data_sel = Metrics_df_with_RTT.loc[Metrics_df_with_RTT[\"EXPERIMENT\"].isin(exps)]\n",
    "    data_sel = pd.merge(data_sel, experiments, on=\"EXPERIMENT\")\n",
    "    return make_average_chart(data_sel, subject, column, digits, statistic)\n",
    "\n",
    "def compare_two_experiments_average_metrics(exps, column:str, plot_title:str=\"\", digits=0, metrics=[\"RTT\", \"RSSI\", \"LQI\"], statistic=\"average\"):\n",
    "    charts = []\n",
    "    \n",
    "    if \"RTT\" in metrics:\n",
    "        charts.append(average_chart(exps, \"RTT\", column, digits, statistic))\n",
    "    \n",
    "    if \"RSSI\" in metrics:\n",
    "        charts.append(average_chart(exps, \"RSSI\", column, digits, statistic))\n",
    "    \n",
    "    if \"LQI\" in metrics:\n",
    "        charts.append(average_chart(exps, \"LQI\", column, digits, statistic))\n",
    "    \n",
    "    return alt.hconcat(\n",
    "        *charts,\n",
    "        title = plot_title + \" — Experiments \" + \", \".join([str(i) for i in exps])\n",
    "    )"
   ]
  },
  {
   "cell_type": "markdown",
   "id": "1e384114-b371-43fa-bc49-66a3ad84552b",
   "metadata": {},
   "source": [
    "## Payload Length"
   ]
  },
  {
   "cell_type": "code",
   "execution_count": null,
   "id": "ceb57ea4-dd2a-4369-9151-106a1383dd01",
   "metadata": {},
   "outputs": [],
   "source": [
    "compare_two_experiments_average_metrics([1, 2], \"PAYLOAD_LENGTH\", f\"Comparison Upon Different Payload Lengths ({title_of['PAYLOAD_LENGTH']})\")"
   ]
  },
  {
   "cell_type": "markdown",
   "id": "51d741b1-a922-41ad-a75f-7fd3692e11bd",
   "metadata": {},
   "source": [
    "## Movement Mode"
   ]
  },
  {
   "cell_type": "code",
   "execution_count": null,
   "id": "2cfb3773-0232-451a-b9d5-f0b93eaedbd4",
   "metadata": {},
   "outputs": [],
   "source": [
    "compare_two_experiments_average_metrics([2, 3], \"RELATIVE_MOVEMENT\", f\"Comparison Upon Relative Movement ({title_of['RELATIVE_MOVEMENT']})\", metrics=[\"RSSI\", \"LQI\"])"
   ]
  },
  {
   "cell_type": "code",
   "execution_count": null,
   "id": "5f4574c2-b58e-48eb-8428-52ead03e166e",
   "metadata": {},
   "outputs": [],
   "source": [
    "compare_two_experiments_average_metrics([2, 3], \"RELATIVE_MOVEMENT\", f\"Comparison Upon Relative Movement ({title_of['RELATIVE_MOVEMENT']})\", metrics=[\"RSSI\"], statistic=\"variance\")"
   ]
  },
  {
   "cell_type": "markdown",
   "id": "41b3e781-37c1-4e00-9c50-e379ce874a95",
   "metadata": {},
   "source": [
    "## Inner Radius"
   ]
  },
  {
   "cell_type": "code",
   "execution_count": null,
   "id": "e1ed82b0-86a9-4cc8-a62a-f83ad9641ba0",
   "metadata": {},
   "outputs": [],
   "source": [
    "compare_two_experiments_average_metrics([3, 4], \"INNER_RADIUS_M\", f\"Comparison Upon Inner Radius ({title_of['INNER_RADIUS_M']}) With Outer Radius 30 m\", metrics=[\"RSSI\"])"
   ]
  },
  {
   "cell_type": "code",
   "execution_count": null,
   "id": "a15747e6-bc73-4d9a-832e-e65764aecf86",
   "metadata": {},
   "outputs": [],
   "source": [
    "compare_two_experiments_average_metrics([3, 4], \"INNER_RADIUS_M\", f\"Comparison Upon Inner Radius ({title_of['INNER_RADIUS_M']}) With Outer Radius 30 m\", metrics=[\"RSSI\"], statistic=\"variance\")"
   ]
  },
  {
   "cell_type": "markdown",
   "id": "9c2afa07-3084-4102-b154-5083f5ffe4fc",
   "metadata": {},
   "source": [
    "## RSSI over Transmission"
   ]
  },
  {
   "cell_type": "code",
   "execution_count": null,
   "id": "48338d11-cf56-4e30-bf9d-b052f7ec6488",
   "metadata": {},
   "outputs": [],
   "source": [
    "alt.Chart(Metrics_df[Metrics_df[\"EXPERIMENT\"].isin([2, 3, 4, 5])], title=\"Received Signal Strength Indicator (RSSI)\").mark_bar(\n",
    "    width=1\n",
    ").transform_calculate(\n",
    "    channel=\"datum.FROM + ' ⇾ ' + datum.TO\"\n",
    ").encode(\n",
    "    x=alt.X('index', title=None),\n",
    "    y=alt.Y(\"RSSI\", title=title_of[\"RSSI\"]),\n",
    "    color=alt.Color('channel:N', sort=\"descending\"),\n",
    "    column=alt.Column(\"EXPERIMENT:N\", title=title_of[\"EXPERIMENT\"])\n",
    ")"
   ]
  },
  {
   "cell_type": "code",
   "execution_count": null,
   "id": "d9b64145-8156-4f14-8f74-a97e3ed9595e",
   "metadata": {},
   "outputs": [],
   "source": [
    "base = alt.Chart(Metrics_df[Metrics_df[\"EXPERIMENT\"] == 3], title=\"Received Signal Strength Indicator (RSSI) — Experiment 3\").mark_bar(\n",
    "    width=1\n",
    ").transform_calculate(\n",
    "    channel=\"datum.FROM + ' ⇾ ' + datum.TO\"\n",
    ")\n",
    "\n",
    "RSSI3_chart = base.encode(\n",
    "    x=alt.X('index', title=None),\n",
    "    y=alt.Y(\"RSSI\", title=title_of[\"RSSI\"]),\n",
    "    color=alt.Color('channel:N', sort=\"descending\")\n",
    ")\n",
    "\n",
    "RSSI3_fit = RSSI3_chart.transform_regression(\"index\", \"RSSI\", method=\"poly\", order=4, groupby=[\"channel\"]).mark_line()\n",
    "\n",
    "RSSI3_chart + RSSI3_fit"
   ]
  },
  {
   "cell_type": "code",
   "execution_count": null,
   "id": "d40a8467-9872-4e9f-94fa-f391fb805f62",
   "metadata": {},
   "outputs": [],
   "source": []
  },
  {
   "cell_type": "code",
   "execution_count": null,
   "id": "f0c4fdf1-c5af-46d4-a579-5f0d49a6527f",
   "metadata": {},
   "outputs": [],
   "source": []
  }
 ],
 "metadata": {
  "kernelspec": {
   "display_name": "Python 3 (ipykernel)",
   "language": "python",
   "name": "python3"
  },
  "language_info": {
   "codemirror_mode": {
    "name": "ipython",
    "version": 3
   },
   "file_extension": ".py",
   "mimetype": "text/x-python",
   "name": "python",
   "nbconvert_exporter": "python",
   "pygments_lexer": "ipython3",
   "version": "3.11.1"
  }
 },
 "nbformat": 4,
 "nbformat_minor": 5
}
