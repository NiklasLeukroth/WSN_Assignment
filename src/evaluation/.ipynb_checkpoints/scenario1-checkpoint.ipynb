{
 "cells": [
  {
   "cell_type": "markdown",
   "id": "cc1e9644-e093-4850-b80f-ddd1b25b194d",
   "metadata": {},
   "source": [
    "# Scenario 1"
   ]
  },
  {
   "cell_type": "code",
   "execution_count": 1,
   "id": "7707b497-b657-4b01-94e9-eaa0fa8085ef",
   "metadata": {},
   "outputs": [],
   "source": [
    "import pandas as pd\n",
    "import altair as alt\n",
    "import numpy as np"
   ]
  },
  {
   "cell_type": "code",
   "execution_count": 2,
   "id": "0f0c723a-946f-4c4a-9017-5f666823617a",
   "metadata": {},
   "outputs": [],
   "source": [
    "def read_data(versuch:int):\n",
    "    tx_logs = pd.read_csv(f\"../logs/s1_v{versuch}_transmitter.csv\", sep=';')\n",
    "    rx_logs = pd.read_csv(f\"../logs/s1_v{versuch}_receiver.csv\", sep=';')\n",
    "    \n",
    "    tx_logs[\"ROLE\"] = [\"Tx\"]*tx_logs.shape[0]\n",
    "    rx_logs[\"ROLE\"] = [\"Rx\"]*rx_logs.shape[0]\n",
    "    \n",
    "    return tx_logs.append(rx_logs, ignore_index=True)"
   ]
  },
  {
   "cell_type": "markdown",
   "id": "5a27c337-b2aa-4198-8b54-556518a90b80",
   "metadata": {},
   "source": [
    "## Experiment N"
   ]
  },
  {
   "cell_type": "code",
   "execution_count": 3,
   "id": "1973bfc4-cabe-4c53-825b-ebd13f7eabe1",
   "metadata": {},
   "outputs": [
    {
     "name": "stderr",
     "output_type": "stream",
     "text": [
      "C:\\Users\\Konst\\AppData\\Local\\Temp\\ipykernel_11632\\3360409294.py:8: FutureWarning: The frame.append method is deprecated and will be removed from pandas in a future version. Use pandas.concat instead.\n",
      "  return tx_logs.append(rx_logs, ignore_index=True)\n"
     ]
    }
   ],
   "source": [
    "experiment = 1\n",
    "logs = read_data(experiment)\n",
    "tx_logs = logs[logs[\"ROLE\"]==\"Tx\"]\n",
    "rx_logs = logs[logs[\"ROLE\"]==\"Rx\"]"
   ]
  },
  {
   "cell_type": "markdown",
   "id": "99bfa263-fb2b-4371-a023-80591cb8c670",
   "metadata": {},
   "source": [
    "### Round Trip Times (RTT)"
   ]
  },
  {
   "cell_type": "code",
   "execution_count": 4,
   "id": "805d9220-6224-40bd-9188-731245738287",
   "metadata": {},
   "outputs": [],
   "source": [
    "RTTs = pd.DataFrame((tx_logs[tx_logs[\"ACK\"]==240].set_index(\"SEQ\")[\"TIMESTAMP\"] - tx_logs[tx_logs[\"ACK\"]==0].set_index(\"SEQ\")[\"TIMESTAMP\"]))\n",
    "RTTs.columns=[\"RTT\"]"
   ]
  },
  {
   "cell_type": "code",
   "execution_count": 5,
   "id": "718c84c6-61da-43dc-b899-c95b3c2f37f8",
   "metadata": {},
   "outputs": [
    {
     "data": {
      "text/html": [
       "\n",
       "<div id=\"altair-viz-84da4a9ef2384ec0a0ba5d704144ef1d\"></div>\n",
       "<script type=\"text/javascript\">\n",
       "  var VEGA_DEBUG = (typeof VEGA_DEBUG == \"undefined\") ? {} : VEGA_DEBUG;\n",
       "  (function(spec, embedOpt){\n",
       "    let outputDiv = document.currentScript.previousElementSibling;\n",
       "    if (outputDiv.id !== \"altair-viz-84da4a9ef2384ec0a0ba5d704144ef1d\") {\n",
       "      outputDiv = document.getElementById(\"altair-viz-84da4a9ef2384ec0a0ba5d704144ef1d\");\n",
       "    }\n",
       "    const paths = {\n",
       "      \"vega\": \"https://cdn.jsdelivr.net/npm//vega@5?noext\",\n",
       "      \"vega-lib\": \"https://cdn.jsdelivr.net/npm//vega-lib?noext\",\n",
       "      \"vega-lite\": \"https://cdn.jsdelivr.net/npm//vega-lite@4.17.0?noext\",\n",
       "      \"vega-embed\": \"https://cdn.jsdelivr.net/npm//vega-embed@6?noext\",\n",
       "    };\n",
       "\n",
       "    function maybeLoadScript(lib, version) {\n",
       "      var key = `${lib.replace(\"-\", \"\")}_version`;\n",
       "      return (VEGA_DEBUG[key] == version) ?\n",
       "        Promise.resolve(paths[lib]) :\n",
       "        new Promise(function(resolve, reject) {\n",
       "          var s = document.createElement('script');\n",
       "          document.getElementsByTagName(\"head\")[0].appendChild(s);\n",
       "          s.async = true;\n",
       "          s.onload = () => {\n",
       "            VEGA_DEBUG[key] = version;\n",
       "            return resolve(paths[lib]);\n",
       "          };\n",
       "          s.onerror = () => reject(`Error loading script: ${paths[lib]}`);\n",
       "          s.src = paths[lib];\n",
       "        });\n",
       "    }\n",
       "\n",
       "    function showError(err) {\n",
       "      outputDiv.innerHTML = `<div class=\"error\" style=\"color:red;\">${err}</div>`;\n",
       "      throw err;\n",
       "    }\n",
       "\n",
       "    function displayChart(vegaEmbed) {\n",
       "      vegaEmbed(outputDiv, spec, embedOpt)\n",
       "        .catch(err => showError(`Javascript Error: ${err.message}<br>This usually means there's a typo in your chart specification. See the javascript console for the full traceback.`));\n",
       "    }\n",
       "\n",
       "    if(typeof define === \"function\" && define.amd) {\n",
       "      requirejs.config({paths});\n",
       "      require([\"vega-embed\"], displayChart, err => showError(`Error loading script: ${err.message}`));\n",
       "    } else {\n",
       "      maybeLoadScript(\"vega\", \"5\")\n",
       "        .then(() => maybeLoadScript(\"vega-lite\", \"4.17.0\"))\n",
       "        .then(() => maybeLoadScript(\"vega-embed\", \"6\"))\n",
       "        .catch(showError)\n",
       "        .then(() => displayChart(vegaEmbed));\n",
       "    }\n",
       "  })({\"config\": {\"view\": {\"continuousWidth\": 400, \"continuousHeight\": 300}}, \"data\": {\"name\": \"data-929d481aa65411e0f515456fa8816b4c\"}, \"mark\": \"bar\", \"encoding\": {\"x\": {\"field\": \"SEQ\", \"type\": \"ordinal\"}, \"y\": {\"field\": \"RTT\", \"title\": \"RTT (ms)\", \"type\": \"quantitative\"}}, \"title\": \"Round Trip Times in Scenario 1 Experiment 1\", \"$schema\": \"https://vega.github.io/schema/vega-lite/v4.17.0.json\", \"datasets\": {\"data-929d481aa65411e0f515456fa8816b4c\": [{\"SEQ\": 1, \"RTT\": 6}, {\"SEQ\": 2, \"RTT\": 8}, {\"SEQ\": 3, \"RTT\": 7}, {\"SEQ\": 4, \"RTT\": 7}, {\"SEQ\": 5, \"RTT\": 6}, {\"SEQ\": 6, \"RTT\": 9}, {\"SEQ\": 7, \"RTT\": 4}, {\"SEQ\": 8, \"RTT\": 10}, {\"SEQ\": 9, \"RTT\": 2}, {\"SEQ\": 10, \"RTT\": 5}, {\"SEQ\": 11, \"RTT\": 5}, {\"SEQ\": 12, \"RTT\": 7}, {\"SEQ\": 13, \"RTT\": 5}, {\"SEQ\": 14, \"RTT\": 1}, {\"SEQ\": 15, \"RTT\": 4}, {\"SEQ\": 16, \"RTT\": 4}, {\"SEQ\": 17, \"RTT\": 6}, {\"SEQ\": 18, \"RTT\": 2}, {\"SEQ\": 19, \"RTT\": 3}, {\"SEQ\": 20, \"RTT\": 2}, {\"SEQ\": 21, \"RTT\": 5}, {\"SEQ\": 22, \"RTT\": 6}, {\"SEQ\": 23, \"RTT\": 7}, {\"SEQ\": 24, \"RTT\": 9}, {\"SEQ\": 25, \"RTT\": 5}, {\"SEQ\": 26, \"RTT\": 7}, {\"SEQ\": 27, \"RTT\": 5}, {\"SEQ\": 28, \"RTT\": 2}, {\"SEQ\": 29, \"RTT\": 10}, {\"SEQ\": 30, \"RTT\": 6}, {\"SEQ\": 31, \"RTT\": 10}, {\"SEQ\": 32, \"RTT\": 5}, {\"SEQ\": 33, \"RTT\": 7}, {\"SEQ\": 34, \"RTT\": 9}, {\"SEQ\": 35, \"RTT\": 4}, {\"SEQ\": 36, \"RTT\": 7}, {\"SEQ\": 37, \"RTT\": 8}, {\"SEQ\": 38, \"RTT\": 3}, {\"SEQ\": 39, \"RTT\": 9}, {\"SEQ\": 40, \"RTT\": 2}, {\"SEQ\": 41, \"RTT\": 8}, {\"SEQ\": 42, \"RTT\": 5}, {\"SEQ\": 43, \"RTT\": 10}, {\"SEQ\": 44, \"RTT\": 4}, {\"SEQ\": 45, \"RTT\": 9}]}}, {\"mode\": \"vega-lite\"});\n",
       "</script>"
      ],
      "text/plain": [
       "alt.Chart(...)"
      ]
     },
     "execution_count": 5,
     "metadata": {},
     "output_type": "execute_result"
    }
   ],
   "source": [
    "alt.Chart(RTTs.reset_index(), title=f\"Round Trip Times in Scenario 1 Experiment {experiment}\").mark_bar().encode(\n",
    "    x=\"SEQ:O\",\n",
    "    y=alt.Y(\"RTT:Q\", title=\"RTT (ms)\")\n",
    ")"
   ]
  },
  {
   "cell_type": "markdown",
   "id": "c4545d8f-a329-499b-a6ae-b6de78e2b59e",
   "metadata": {},
   "source": [
    "### RSSI"
   ]
  },
  {
   "cell_type": "code",
   "execution_count": 6,
   "id": "94eb4a1f-9e3c-4fb9-b8a7-95755b489a1e",
   "metadata": {},
   "outputs": [
    {
     "data": {
      "text/html": [
       "\n",
       "<div id=\"altair-viz-d6e2e5d0b7f44c9eb2eab50f9152d81c\"></div>\n",
       "<script type=\"text/javascript\">\n",
       "  var VEGA_DEBUG = (typeof VEGA_DEBUG == \"undefined\") ? {} : VEGA_DEBUG;\n",
       "  (function(spec, embedOpt){\n",
       "    let outputDiv = document.currentScript.previousElementSibling;\n",
       "    if (outputDiv.id !== \"altair-viz-d6e2e5d0b7f44c9eb2eab50f9152d81c\") {\n",
       "      outputDiv = document.getElementById(\"altair-viz-d6e2e5d0b7f44c9eb2eab50f9152d81c\");\n",
       "    }\n",
       "    const paths = {\n",
       "      \"vega\": \"https://cdn.jsdelivr.net/npm//vega@5?noext\",\n",
       "      \"vega-lib\": \"https://cdn.jsdelivr.net/npm//vega-lib?noext\",\n",
       "      \"vega-lite\": \"https://cdn.jsdelivr.net/npm//vega-lite@4.17.0?noext\",\n",
       "      \"vega-embed\": \"https://cdn.jsdelivr.net/npm//vega-embed@6?noext\",\n",
       "    };\n",
       "\n",
       "    function maybeLoadScript(lib, version) {\n",
       "      var key = `${lib.replace(\"-\", \"\")}_version`;\n",
       "      return (VEGA_DEBUG[key] == version) ?\n",
       "        Promise.resolve(paths[lib]) :\n",
       "        new Promise(function(resolve, reject) {\n",
       "          var s = document.createElement('script');\n",
       "          document.getElementsByTagName(\"head\")[0].appendChild(s);\n",
       "          s.async = true;\n",
       "          s.onload = () => {\n",
       "            VEGA_DEBUG[key] = version;\n",
       "            return resolve(paths[lib]);\n",
       "          };\n",
       "          s.onerror = () => reject(`Error loading script: ${paths[lib]}`);\n",
       "          s.src = paths[lib];\n",
       "        });\n",
       "    }\n",
       "\n",
       "    function showError(err) {\n",
       "      outputDiv.innerHTML = `<div class=\"error\" style=\"color:red;\">${err}</div>`;\n",
       "      throw err;\n",
       "    }\n",
       "\n",
       "    function displayChart(vegaEmbed) {\n",
       "      vegaEmbed(outputDiv, spec, embedOpt)\n",
       "        .catch(err => showError(`Javascript Error: ${err.message}<br>This usually means there's a typo in your chart specification. See the javascript console for the full traceback.`));\n",
       "    }\n",
       "\n",
       "    if(typeof define === \"function\" && define.amd) {\n",
       "      requirejs.config({paths});\n",
       "      require([\"vega-embed\"], displayChart, err => showError(`Error loading script: ${err.message}`));\n",
       "    } else {\n",
       "      maybeLoadScript(\"vega\", \"5\")\n",
       "        .then(() => maybeLoadScript(\"vega-lite\", \"4.17.0\"))\n",
       "        .then(() => maybeLoadScript(\"vega-embed\", \"6\"))\n",
       "        .catch(showError)\n",
       "        .then(() => displayChart(vegaEmbed));\n",
       "    }\n",
       "  })({\"config\": {\"view\": {\"continuousWidth\": 400, \"continuousHeight\": 300}}, \"data\": {\"name\": \"data-31b7106f2eaac18e6d1eb6e078122548\"}, \"mark\": {\"type\": \"point\", \"filled\": true}, \"encoding\": {\"color\": {\"field\": \"ROLE\", \"type\": \"nominal\"}, \"x\": {\"field\": \"SEQ\", \"type\": \"ordinal\"}, \"y\": {\"field\": \"RSSI\", \"scale\": {\"domain\": [-100, -57]}, \"type\": \"quantitative\"}}, \"title\": \"RSSI Values in Scenario 1 Experiment 1\", \"$schema\": \"https://vega.github.io/schema/vega-lite/v4.17.0.json\", \"datasets\": {\"data-31b7106f2eaac18e6d1eb6e078122548\": [{\"SEQ\": 1, \"RSSI\": -73, \"ROLE\": \"Tx\"}, {\"SEQ\": 2, \"RSSI\": -70, \"ROLE\": \"Tx\"}, {\"SEQ\": 3, \"RSSI\": -70, \"ROLE\": \"Tx\"}, {\"SEQ\": 4, \"RSSI\": -71, \"ROLE\": \"Tx\"}, {\"SEQ\": 5, \"RSSI\": -71, \"ROLE\": \"Tx\"}, {\"SEQ\": 6, \"RSSI\": -73, \"ROLE\": \"Tx\"}, {\"SEQ\": 7, \"RSSI\": -73, \"ROLE\": \"Tx\"}, {\"SEQ\": 8, \"RSSI\": -78, \"ROLE\": \"Tx\"}, {\"SEQ\": 9, \"RSSI\": -77, \"ROLE\": \"Tx\"}, {\"SEQ\": 10, \"RSSI\": -75, \"ROLE\": \"Tx\"}, {\"SEQ\": 11, \"RSSI\": -77, \"ROLE\": \"Tx\"}, {\"SEQ\": 12, \"RSSI\": -81, \"ROLE\": \"Tx\"}, {\"SEQ\": 13, \"RSSI\": -89, \"ROLE\": \"Tx\"}, {\"SEQ\": 14, \"RSSI\": -76, \"ROLE\": \"Tx\"}, {\"SEQ\": 15, \"RSSI\": -78, \"ROLE\": \"Tx\"}, {\"SEQ\": 16, \"RSSI\": -78, \"ROLE\": \"Tx\"}, {\"SEQ\": 17, \"RSSI\": -76, \"ROLE\": \"Tx\"}, {\"SEQ\": 18, \"RSSI\": -78, \"ROLE\": \"Tx\"}, {\"SEQ\": 19, \"RSSI\": -77, \"ROLE\": \"Tx\"}, {\"SEQ\": 20, \"RSSI\": -75, \"ROLE\": \"Tx\"}, {\"SEQ\": 21, \"RSSI\": -74, \"ROLE\": \"Tx\"}, {\"SEQ\": 22, \"RSSI\": -75, \"ROLE\": \"Tx\"}, {\"SEQ\": 23, \"RSSI\": -82, \"ROLE\": \"Tx\"}, {\"SEQ\": 24, \"RSSI\": -81, \"ROLE\": \"Tx\"}, {\"SEQ\": 25, \"RSSI\": -72, \"ROLE\": \"Tx\"}, {\"SEQ\": 26, \"RSSI\": -78, \"ROLE\": \"Tx\"}, {\"SEQ\": 27, \"RSSI\": -75, \"ROLE\": \"Tx\"}, {\"SEQ\": 28, \"RSSI\": -72, \"ROLE\": \"Tx\"}, {\"SEQ\": 29, \"RSSI\": -72, \"ROLE\": \"Tx\"}, {\"SEQ\": 30, \"RSSI\": -73, \"ROLE\": \"Tx\"}, {\"SEQ\": 31, \"RSSI\": -72, \"ROLE\": \"Tx\"}, {\"SEQ\": 32, \"RSSI\": -73, \"ROLE\": \"Tx\"}, {\"SEQ\": 33, \"RSSI\": -72, \"ROLE\": \"Tx\"}, {\"SEQ\": 34, \"RSSI\": -74, \"ROLE\": \"Tx\"}, {\"SEQ\": 35, \"RSSI\": -78, \"ROLE\": \"Tx\"}, {\"SEQ\": 36, \"RSSI\": -70, \"ROLE\": \"Tx\"}, {\"SEQ\": 37, \"RSSI\": -68, \"ROLE\": \"Tx\"}, {\"SEQ\": 38, \"RSSI\": -67, \"ROLE\": \"Tx\"}, {\"SEQ\": 39, \"RSSI\": -72, \"ROLE\": \"Tx\"}, {\"SEQ\": 40, \"RSSI\": -76, \"ROLE\": \"Tx\"}, {\"SEQ\": 41, \"RSSI\": -71, \"ROLE\": \"Tx\"}, {\"SEQ\": 42, \"RSSI\": -72, \"ROLE\": \"Tx\"}, {\"SEQ\": 43, \"RSSI\": -71, \"ROLE\": \"Tx\"}, {\"SEQ\": 44, \"RSSI\": -78, \"ROLE\": \"Tx\"}, {\"SEQ\": 45, \"RSSI\": -85, \"ROLE\": \"Tx\"}, {\"SEQ\": 1, \"RSSI\": -73, \"ROLE\": \"Rx\"}, {\"SEQ\": 2, \"RSSI\": -71, \"ROLE\": \"Rx\"}, {\"SEQ\": 3, \"RSSI\": -70, \"ROLE\": \"Rx\"}, {\"SEQ\": 4, \"RSSI\": -72, \"ROLE\": \"Rx\"}, {\"SEQ\": 5, \"RSSI\": -71, \"ROLE\": \"Rx\"}, {\"SEQ\": 6, \"RSSI\": -74, \"ROLE\": \"Rx\"}, {\"SEQ\": 7, \"RSSI\": -73, \"ROLE\": \"Rx\"}, {\"SEQ\": 8, \"RSSI\": -78, \"ROLE\": \"Rx\"}, {\"SEQ\": 9, \"RSSI\": -78, \"ROLE\": \"Rx\"}, {\"SEQ\": 10, \"RSSI\": -75, \"ROLE\": \"Rx\"}, {\"SEQ\": 11, \"RSSI\": -76, \"ROLE\": \"Rx\"}, {\"SEQ\": 12, \"RSSI\": -80, \"ROLE\": \"Rx\"}, {\"SEQ\": 13, \"RSSI\": -90, \"ROLE\": \"Rx\"}, {\"SEQ\": 14, \"RSSI\": -76, \"ROLE\": \"Rx\"}, {\"SEQ\": 15, \"RSSI\": -78, \"ROLE\": \"Rx\"}, {\"SEQ\": 16, \"RSSI\": -78, \"ROLE\": \"Rx\"}, {\"SEQ\": 17, \"RSSI\": -77, \"ROLE\": \"Rx\"}, {\"SEQ\": 18, \"RSSI\": -79, \"ROLE\": \"Rx\"}, {\"SEQ\": 19, \"RSSI\": -78, \"ROLE\": \"Rx\"}, {\"SEQ\": 20, \"RSSI\": -76, \"ROLE\": \"Rx\"}, {\"SEQ\": 21, \"RSSI\": -75, \"ROLE\": \"Rx\"}, {\"SEQ\": 22, \"RSSI\": -75, \"ROLE\": \"Rx\"}, {\"SEQ\": 23, \"RSSI\": -81, \"ROLE\": \"Rx\"}, {\"SEQ\": 24, \"RSSI\": -82, \"ROLE\": \"Rx\"}, {\"SEQ\": 25, \"RSSI\": -74, \"ROLE\": \"Rx\"}, {\"SEQ\": 26, \"RSSI\": -77, \"ROLE\": \"Rx\"}, {\"SEQ\": 27, \"RSSI\": -75, \"ROLE\": \"Rx\"}, {\"SEQ\": 28, \"RSSI\": -72, \"ROLE\": \"Rx\"}, {\"SEQ\": 29, \"RSSI\": -73, \"ROLE\": \"Rx\"}, {\"SEQ\": 30, \"RSSI\": -73, \"ROLE\": \"Rx\"}, {\"SEQ\": 31, \"RSSI\": -71, \"ROLE\": \"Rx\"}, {\"SEQ\": 32, \"RSSI\": -72, \"ROLE\": \"Rx\"}, {\"SEQ\": 33, \"RSSI\": -73, \"ROLE\": \"Rx\"}, {\"SEQ\": 34, \"RSSI\": -75, \"ROLE\": \"Rx\"}, {\"SEQ\": 35, \"RSSI\": -78, \"ROLE\": \"Rx\"}, {\"SEQ\": 36, \"RSSI\": -69, \"ROLE\": \"Rx\"}, {\"SEQ\": 37, \"RSSI\": -69, \"ROLE\": \"Rx\"}, {\"SEQ\": 38, \"RSSI\": -68, \"ROLE\": \"Rx\"}, {\"SEQ\": 39, \"RSSI\": -71, \"ROLE\": \"Rx\"}, {\"SEQ\": 40, \"RSSI\": -77, \"ROLE\": \"Rx\"}, {\"SEQ\": 41, \"RSSI\": -72, \"ROLE\": \"Rx\"}, {\"SEQ\": 42, \"RSSI\": -72, \"ROLE\": \"Rx\"}, {\"SEQ\": 43, \"RSSI\": -72, \"ROLE\": \"Rx\"}, {\"SEQ\": 44, \"RSSI\": -76, \"ROLE\": \"Rx\"}, {\"SEQ\": 45, \"RSSI\": -84, \"ROLE\": \"Rx\"}]}}, {\"mode\": \"vega-lite\"});\n",
       "</script>"
      ],
      "text/plain": [
       "alt.Chart(...)"
      ]
     },
     "execution_count": 6,
     "metadata": {},
     "output_type": "execute_result"
    }
   ],
   "source": [
    "RSSI_df = logs.loc[((logs[\"ACK\"]==0) & (logs[\"ROLE\"]==\"Rx\")) | ((logs[\"ACK\"]==240) & (logs[\"ROLE\"]==\"Tx\"))][[\"SEQ\", \"RSSI\", \"ROLE\"]]\n",
    "\n",
    "alt.Chart(RSSI_df, title=f\"RSSI Values in Scenario 1 Experiment {experiment}\").mark_point(filled=True).encode(\n",
    "    x=\"SEQ:O\",\n",
    "    y=alt.Y(\"RSSI:Q\", scale=alt.Scale(domain=(min(RSSI_df[\"RSSI\"])-10, max(RSSI_df[\"RSSI\"])+10))),\n",
    "    color=\"ROLE:N\"\n",
    ")"
   ]
  },
  {
   "cell_type": "code",
   "execution_count": 7,
   "id": "66239950-eb6d-42bb-ac9a-01fe7c6ed46d",
   "metadata": {},
   "outputs": [
    {
     "data": {
      "text/html": [
       "\n",
       "<div id=\"altair-viz-165862f5f4d041abbff655b24d926b9a\"></div>\n",
       "<script type=\"text/javascript\">\n",
       "  var VEGA_DEBUG = (typeof VEGA_DEBUG == \"undefined\") ? {} : VEGA_DEBUG;\n",
       "  (function(spec, embedOpt){\n",
       "    let outputDiv = document.currentScript.previousElementSibling;\n",
       "    if (outputDiv.id !== \"altair-viz-165862f5f4d041abbff655b24d926b9a\") {\n",
       "      outputDiv = document.getElementById(\"altair-viz-165862f5f4d041abbff655b24d926b9a\");\n",
       "    }\n",
       "    const paths = {\n",
       "      \"vega\": \"https://cdn.jsdelivr.net/npm//vega@5?noext\",\n",
       "      \"vega-lib\": \"https://cdn.jsdelivr.net/npm//vega-lib?noext\",\n",
       "      \"vega-lite\": \"https://cdn.jsdelivr.net/npm//vega-lite@4.17.0?noext\",\n",
       "      \"vega-embed\": \"https://cdn.jsdelivr.net/npm//vega-embed@6?noext\",\n",
       "    };\n",
       "\n",
       "    function maybeLoadScript(lib, version) {\n",
       "      var key = `${lib.replace(\"-\", \"\")}_version`;\n",
       "      return (VEGA_DEBUG[key] == version) ?\n",
       "        Promise.resolve(paths[lib]) :\n",
       "        new Promise(function(resolve, reject) {\n",
       "          var s = document.createElement('script');\n",
       "          document.getElementsByTagName(\"head\")[0].appendChild(s);\n",
       "          s.async = true;\n",
       "          s.onload = () => {\n",
       "            VEGA_DEBUG[key] = version;\n",
       "            return resolve(paths[lib]);\n",
       "          };\n",
       "          s.onerror = () => reject(`Error loading script: ${paths[lib]}`);\n",
       "          s.src = paths[lib];\n",
       "        });\n",
       "    }\n",
       "\n",
       "    function showError(err) {\n",
       "      outputDiv.innerHTML = `<div class=\"error\" style=\"color:red;\">${err}</div>`;\n",
       "      throw err;\n",
       "    }\n",
       "\n",
       "    function displayChart(vegaEmbed) {\n",
       "      vegaEmbed(outputDiv, spec, embedOpt)\n",
       "        .catch(err => showError(`Javascript Error: ${err.message}<br>This usually means there's a typo in your chart specification. See the javascript console for the full traceback.`));\n",
       "    }\n",
       "\n",
       "    if(typeof define === \"function\" && define.amd) {\n",
       "      requirejs.config({paths});\n",
       "      require([\"vega-embed\"], displayChart, err => showError(`Error loading script: ${err.message}`));\n",
       "    } else {\n",
       "      maybeLoadScript(\"vega\", \"5\")\n",
       "        .then(() => maybeLoadScript(\"vega-lite\", \"4.17.0\"))\n",
       "        .then(() => maybeLoadScript(\"vega-embed\", \"6\"))\n",
       "        .catch(showError)\n",
       "        .then(() => displayChart(vegaEmbed));\n",
       "    }\n",
       "  })({\"config\": {\"view\": {\"continuousWidth\": 400, \"continuousHeight\": 300}}, \"data\": {\"name\": \"data-31b7106f2eaac18e6d1eb6e078122548\"}, \"mark\": \"bar\", \"encoding\": {\"color\": {\"field\": \"ROLE\", \"type\": \"nominal\"}, \"x\": {\"field\": \"ROLE\", \"type\": \"nominal\"}, \"y\": {\"aggregate\": \"variance\", \"field\": \"RSSI\", \"type\": \"quantitative\"}}, \"title\": \"RSSI Variances Scenario 1 Experiment 1\", \"$schema\": \"https://vega.github.io/schema/vega-lite/v4.17.0.json\", \"datasets\": {\"data-31b7106f2eaac18e6d1eb6e078122548\": [{\"SEQ\": 1, \"RSSI\": -73, \"ROLE\": \"Tx\"}, {\"SEQ\": 2, \"RSSI\": -70, \"ROLE\": \"Tx\"}, {\"SEQ\": 3, \"RSSI\": -70, \"ROLE\": \"Tx\"}, {\"SEQ\": 4, \"RSSI\": -71, \"ROLE\": \"Tx\"}, {\"SEQ\": 5, \"RSSI\": -71, \"ROLE\": \"Tx\"}, {\"SEQ\": 6, \"RSSI\": -73, \"ROLE\": \"Tx\"}, {\"SEQ\": 7, \"RSSI\": -73, \"ROLE\": \"Tx\"}, {\"SEQ\": 8, \"RSSI\": -78, \"ROLE\": \"Tx\"}, {\"SEQ\": 9, \"RSSI\": -77, \"ROLE\": \"Tx\"}, {\"SEQ\": 10, \"RSSI\": -75, \"ROLE\": \"Tx\"}, {\"SEQ\": 11, \"RSSI\": -77, \"ROLE\": \"Tx\"}, {\"SEQ\": 12, \"RSSI\": -81, \"ROLE\": \"Tx\"}, {\"SEQ\": 13, \"RSSI\": -89, \"ROLE\": \"Tx\"}, {\"SEQ\": 14, \"RSSI\": -76, \"ROLE\": \"Tx\"}, {\"SEQ\": 15, \"RSSI\": -78, \"ROLE\": \"Tx\"}, {\"SEQ\": 16, \"RSSI\": -78, \"ROLE\": \"Tx\"}, {\"SEQ\": 17, \"RSSI\": -76, \"ROLE\": \"Tx\"}, {\"SEQ\": 18, \"RSSI\": -78, \"ROLE\": \"Tx\"}, {\"SEQ\": 19, \"RSSI\": -77, \"ROLE\": \"Tx\"}, {\"SEQ\": 20, \"RSSI\": -75, \"ROLE\": \"Tx\"}, {\"SEQ\": 21, \"RSSI\": -74, \"ROLE\": \"Tx\"}, {\"SEQ\": 22, \"RSSI\": -75, \"ROLE\": \"Tx\"}, {\"SEQ\": 23, \"RSSI\": -82, \"ROLE\": \"Tx\"}, {\"SEQ\": 24, \"RSSI\": -81, \"ROLE\": \"Tx\"}, {\"SEQ\": 25, \"RSSI\": -72, \"ROLE\": \"Tx\"}, {\"SEQ\": 26, \"RSSI\": -78, \"ROLE\": \"Tx\"}, {\"SEQ\": 27, \"RSSI\": -75, \"ROLE\": \"Tx\"}, {\"SEQ\": 28, \"RSSI\": -72, \"ROLE\": \"Tx\"}, {\"SEQ\": 29, \"RSSI\": -72, \"ROLE\": \"Tx\"}, {\"SEQ\": 30, \"RSSI\": -73, \"ROLE\": \"Tx\"}, {\"SEQ\": 31, \"RSSI\": -72, \"ROLE\": \"Tx\"}, {\"SEQ\": 32, \"RSSI\": -73, \"ROLE\": \"Tx\"}, {\"SEQ\": 33, \"RSSI\": -72, \"ROLE\": \"Tx\"}, {\"SEQ\": 34, \"RSSI\": -74, \"ROLE\": \"Tx\"}, {\"SEQ\": 35, \"RSSI\": -78, \"ROLE\": \"Tx\"}, {\"SEQ\": 36, \"RSSI\": -70, \"ROLE\": \"Tx\"}, {\"SEQ\": 37, \"RSSI\": -68, \"ROLE\": \"Tx\"}, {\"SEQ\": 38, \"RSSI\": -67, \"ROLE\": \"Tx\"}, {\"SEQ\": 39, \"RSSI\": -72, \"ROLE\": \"Tx\"}, {\"SEQ\": 40, \"RSSI\": -76, \"ROLE\": \"Tx\"}, {\"SEQ\": 41, \"RSSI\": -71, \"ROLE\": \"Tx\"}, {\"SEQ\": 42, \"RSSI\": -72, \"ROLE\": \"Tx\"}, {\"SEQ\": 43, \"RSSI\": -71, \"ROLE\": \"Tx\"}, {\"SEQ\": 44, \"RSSI\": -78, \"ROLE\": \"Tx\"}, {\"SEQ\": 45, \"RSSI\": -85, \"ROLE\": \"Tx\"}, {\"SEQ\": 1, \"RSSI\": -73, \"ROLE\": \"Rx\"}, {\"SEQ\": 2, \"RSSI\": -71, \"ROLE\": \"Rx\"}, {\"SEQ\": 3, \"RSSI\": -70, \"ROLE\": \"Rx\"}, {\"SEQ\": 4, \"RSSI\": -72, \"ROLE\": \"Rx\"}, {\"SEQ\": 5, \"RSSI\": -71, \"ROLE\": \"Rx\"}, {\"SEQ\": 6, \"RSSI\": -74, \"ROLE\": \"Rx\"}, {\"SEQ\": 7, \"RSSI\": -73, \"ROLE\": \"Rx\"}, {\"SEQ\": 8, \"RSSI\": -78, \"ROLE\": \"Rx\"}, {\"SEQ\": 9, \"RSSI\": -78, \"ROLE\": \"Rx\"}, {\"SEQ\": 10, \"RSSI\": -75, \"ROLE\": \"Rx\"}, {\"SEQ\": 11, \"RSSI\": -76, \"ROLE\": \"Rx\"}, {\"SEQ\": 12, \"RSSI\": -80, \"ROLE\": \"Rx\"}, {\"SEQ\": 13, \"RSSI\": -90, \"ROLE\": \"Rx\"}, {\"SEQ\": 14, \"RSSI\": -76, \"ROLE\": \"Rx\"}, {\"SEQ\": 15, \"RSSI\": -78, \"ROLE\": \"Rx\"}, {\"SEQ\": 16, \"RSSI\": -78, \"ROLE\": \"Rx\"}, {\"SEQ\": 17, \"RSSI\": -77, \"ROLE\": \"Rx\"}, {\"SEQ\": 18, \"RSSI\": -79, \"ROLE\": \"Rx\"}, {\"SEQ\": 19, \"RSSI\": -78, \"ROLE\": \"Rx\"}, {\"SEQ\": 20, \"RSSI\": -76, \"ROLE\": \"Rx\"}, {\"SEQ\": 21, \"RSSI\": -75, \"ROLE\": \"Rx\"}, {\"SEQ\": 22, \"RSSI\": -75, \"ROLE\": \"Rx\"}, {\"SEQ\": 23, \"RSSI\": -81, \"ROLE\": \"Rx\"}, {\"SEQ\": 24, \"RSSI\": -82, \"ROLE\": \"Rx\"}, {\"SEQ\": 25, \"RSSI\": -74, \"ROLE\": \"Rx\"}, {\"SEQ\": 26, \"RSSI\": -77, \"ROLE\": \"Rx\"}, {\"SEQ\": 27, \"RSSI\": -75, \"ROLE\": \"Rx\"}, {\"SEQ\": 28, \"RSSI\": -72, \"ROLE\": \"Rx\"}, {\"SEQ\": 29, \"RSSI\": -73, \"ROLE\": \"Rx\"}, {\"SEQ\": 30, \"RSSI\": -73, \"ROLE\": \"Rx\"}, {\"SEQ\": 31, \"RSSI\": -71, \"ROLE\": \"Rx\"}, {\"SEQ\": 32, \"RSSI\": -72, \"ROLE\": \"Rx\"}, {\"SEQ\": 33, \"RSSI\": -73, \"ROLE\": \"Rx\"}, {\"SEQ\": 34, \"RSSI\": -75, \"ROLE\": \"Rx\"}, {\"SEQ\": 35, \"RSSI\": -78, \"ROLE\": \"Rx\"}, {\"SEQ\": 36, \"RSSI\": -69, \"ROLE\": \"Rx\"}, {\"SEQ\": 37, \"RSSI\": -69, \"ROLE\": \"Rx\"}, {\"SEQ\": 38, \"RSSI\": -68, \"ROLE\": \"Rx\"}, {\"SEQ\": 39, \"RSSI\": -71, \"ROLE\": \"Rx\"}, {\"SEQ\": 40, \"RSSI\": -77, \"ROLE\": \"Rx\"}, {\"SEQ\": 41, \"RSSI\": -72, \"ROLE\": \"Rx\"}, {\"SEQ\": 42, \"RSSI\": -72, \"ROLE\": \"Rx\"}, {\"SEQ\": 43, \"RSSI\": -72, \"ROLE\": \"Rx\"}, {\"SEQ\": 44, \"RSSI\": -76, \"ROLE\": \"Rx\"}, {\"SEQ\": 45, \"RSSI\": -84, \"ROLE\": \"Rx\"}]}}, {\"mode\": \"vega-lite\"});\n",
       "</script>"
      ],
      "text/plain": [
       "alt.Chart(...)"
      ]
     },
     "execution_count": 7,
     "metadata": {},
     "output_type": "execute_result"
    }
   ],
   "source": [
    "alt.Chart(RSSI_df, title=f\"RSSI Variances Scenario 1 Experiment {experiment}\").mark_bar().encode(\n",
    "    x=\"ROLE:N\",\n",
    "    y=\"variance(RSSI)\",\n",
    "    color=\"ROLE:N\"\n",
    ")"
   ]
  },
  {
   "cell_type": "markdown",
   "id": "8d175322-677c-41e8-8f02-e90e770d455a",
   "metadata": {},
   "source": [
    "### LQI"
   ]
  },
  {
   "cell_type": "code",
   "execution_count": 8,
   "id": "520fac4f-63fd-496e-ad30-929c98711c3c",
   "metadata": {},
   "outputs": [
    {
     "data": {
      "text/html": [
       "\n",
       "<div id=\"altair-viz-e266754aca914fee959b40702f359071\"></div>\n",
       "<script type=\"text/javascript\">\n",
       "  var VEGA_DEBUG = (typeof VEGA_DEBUG == \"undefined\") ? {} : VEGA_DEBUG;\n",
       "  (function(spec, embedOpt){\n",
       "    let outputDiv = document.currentScript.previousElementSibling;\n",
       "    if (outputDiv.id !== \"altair-viz-e266754aca914fee959b40702f359071\") {\n",
       "      outputDiv = document.getElementById(\"altair-viz-e266754aca914fee959b40702f359071\");\n",
       "    }\n",
       "    const paths = {\n",
       "      \"vega\": \"https://cdn.jsdelivr.net/npm//vega@5?noext\",\n",
       "      \"vega-lib\": \"https://cdn.jsdelivr.net/npm//vega-lib?noext\",\n",
       "      \"vega-lite\": \"https://cdn.jsdelivr.net/npm//vega-lite@4.17.0?noext\",\n",
       "      \"vega-embed\": \"https://cdn.jsdelivr.net/npm//vega-embed@6?noext\",\n",
       "    };\n",
       "\n",
       "    function maybeLoadScript(lib, version) {\n",
       "      var key = `${lib.replace(\"-\", \"\")}_version`;\n",
       "      return (VEGA_DEBUG[key] == version) ?\n",
       "        Promise.resolve(paths[lib]) :\n",
       "        new Promise(function(resolve, reject) {\n",
       "          var s = document.createElement('script');\n",
       "          document.getElementsByTagName(\"head\")[0].appendChild(s);\n",
       "          s.async = true;\n",
       "          s.onload = () => {\n",
       "            VEGA_DEBUG[key] = version;\n",
       "            return resolve(paths[lib]);\n",
       "          };\n",
       "          s.onerror = () => reject(`Error loading script: ${paths[lib]}`);\n",
       "          s.src = paths[lib];\n",
       "        });\n",
       "    }\n",
       "\n",
       "    function showError(err) {\n",
       "      outputDiv.innerHTML = `<div class=\"error\" style=\"color:red;\">${err}</div>`;\n",
       "      throw err;\n",
       "    }\n",
       "\n",
       "    function displayChart(vegaEmbed) {\n",
       "      vegaEmbed(outputDiv, spec, embedOpt)\n",
       "        .catch(err => showError(`Javascript Error: ${err.message}<br>This usually means there's a typo in your chart specification. See the javascript console for the full traceback.`));\n",
       "    }\n",
       "\n",
       "    if(typeof define === \"function\" && define.amd) {\n",
       "      requirejs.config({paths});\n",
       "      require([\"vega-embed\"], displayChart, err => showError(`Error loading script: ${err.message}`));\n",
       "    } else {\n",
       "      maybeLoadScript(\"vega\", \"5\")\n",
       "        .then(() => maybeLoadScript(\"vega-lite\", \"4.17.0\"))\n",
       "        .then(() => maybeLoadScript(\"vega-embed\", \"6\"))\n",
       "        .catch(showError)\n",
       "        .then(() => displayChart(vegaEmbed));\n",
       "    }\n",
       "  })({\"config\": {\"view\": {\"continuousWidth\": 400, \"continuousHeight\": 300}}, \"data\": {\"name\": \"data-b01b75b377914661925ac759009fee95\"}, \"mark\": {\"type\": \"point\", \"filled\": true}, \"encoding\": {\"color\": {\"field\": \"ROLE\", \"type\": \"nominal\"}, \"x\": {\"field\": \"SEQ\", \"type\": \"ordinal\"}, \"y\": {\"field\": \"LQI\", \"scale\": {\"domain\": [100, 113]}, \"type\": \"quantitative\"}}, \"title\": \"LQI Values in Scenario 1 Experiment 1\", \"$schema\": \"https://vega.github.io/schema/vega-lite/v4.17.0.json\", \"datasets\": {\"data-b01b75b377914661925ac759009fee95\": [{\"SEQ\": 1, \"LQI\": 107, \"ROLE\": \"Tx\"}, {\"SEQ\": 2, \"LQI\": 108, \"ROLE\": \"Tx\"}, {\"SEQ\": 3, \"LQI\": 108, \"ROLE\": \"Tx\"}, {\"SEQ\": 4, \"LQI\": 107, \"ROLE\": \"Tx\"}, {\"SEQ\": 5, \"LQI\": 108, \"ROLE\": \"Tx\"}, {\"SEQ\": 6, \"LQI\": 108, \"ROLE\": \"Tx\"}, {\"SEQ\": 7, \"LQI\": 107, \"ROLE\": \"Tx\"}, {\"SEQ\": 8, \"LQI\": 106, \"ROLE\": \"Tx\"}, {\"SEQ\": 9, \"LQI\": 107, \"ROLE\": \"Tx\"}, {\"SEQ\": 10, \"LQI\": 107, \"ROLE\": \"Tx\"}, {\"SEQ\": 11, \"LQI\": 106, \"ROLE\": \"Tx\"}, {\"SEQ\": 12, \"LQI\": 108, \"ROLE\": \"Tx\"}, {\"SEQ\": 13, \"LQI\": 106, \"ROLE\": \"Tx\"}, {\"SEQ\": 14, \"LQI\": 107, \"ROLE\": \"Tx\"}, {\"SEQ\": 15, \"LQI\": 106, \"ROLE\": \"Tx\"}, {\"SEQ\": 16, \"LQI\": 106, \"ROLE\": \"Tx\"}, {\"SEQ\": 17, \"LQI\": 107, \"ROLE\": \"Tx\"}, {\"SEQ\": 18, \"LQI\": 107, \"ROLE\": \"Tx\"}, {\"SEQ\": 19, \"LQI\": 108, \"ROLE\": \"Tx\"}, {\"SEQ\": 20, \"LQI\": 107, \"ROLE\": \"Tx\"}, {\"SEQ\": 21, \"LQI\": 108, \"ROLE\": \"Tx\"}, {\"SEQ\": 22, \"LQI\": 106, \"ROLE\": \"Tx\"}, {\"SEQ\": 23, \"LQI\": 108, \"ROLE\": \"Tx\"}, {\"SEQ\": 24, \"LQI\": 105, \"ROLE\": \"Tx\"}, {\"SEQ\": 25, \"LQI\": 107, \"ROLE\": \"Tx\"}, {\"SEQ\": 26, \"LQI\": 107, \"ROLE\": \"Tx\"}, {\"SEQ\": 27, \"LQI\": 107, \"ROLE\": \"Tx\"}, {\"SEQ\": 28, \"LQI\": 107, \"ROLE\": \"Tx\"}, {\"SEQ\": 29, \"LQI\": 108, \"ROLE\": \"Tx\"}, {\"SEQ\": 30, \"LQI\": 107, \"ROLE\": \"Tx\"}, {\"SEQ\": 31, \"LQI\": 108, \"ROLE\": \"Tx\"}, {\"SEQ\": 32, \"LQI\": 108, \"ROLE\": \"Tx\"}, {\"SEQ\": 33, \"LQI\": 108, \"ROLE\": \"Tx\"}, {\"SEQ\": 34, \"LQI\": 108, \"ROLE\": \"Tx\"}, {\"SEQ\": 35, \"LQI\": 108, \"ROLE\": \"Tx\"}, {\"SEQ\": 36, \"LQI\": 106, \"ROLE\": \"Tx\"}, {\"SEQ\": 37, \"LQI\": 108, \"ROLE\": \"Tx\"}, {\"SEQ\": 38, \"LQI\": 107, \"ROLE\": \"Tx\"}, {\"SEQ\": 39, \"LQI\": 107, \"ROLE\": \"Tx\"}, {\"SEQ\": 40, \"LQI\": 107, \"ROLE\": \"Tx\"}, {\"SEQ\": 41, \"LQI\": 107, \"ROLE\": \"Tx\"}, {\"SEQ\": 42, \"LQI\": 107, \"ROLE\": \"Tx\"}, {\"SEQ\": 43, \"LQI\": 108, \"ROLE\": \"Tx\"}, {\"SEQ\": 44, \"LQI\": 108, \"ROLE\": \"Tx\"}, {\"SEQ\": 45, \"LQI\": 108, \"ROLE\": \"Tx\"}, {\"SEQ\": 1, \"LQI\": 108, \"ROLE\": \"Rx\"}, {\"SEQ\": 2, \"LQI\": 106, \"ROLE\": \"Rx\"}, {\"SEQ\": 3, \"LQI\": 107, \"ROLE\": \"Rx\"}, {\"SEQ\": 4, \"LQI\": 107, \"ROLE\": \"Rx\"}, {\"SEQ\": 5, \"LQI\": 108, \"ROLE\": \"Rx\"}, {\"SEQ\": 6, \"LQI\": 108, \"ROLE\": \"Rx\"}, {\"SEQ\": 7, \"LQI\": 106, \"ROLE\": \"Rx\"}, {\"SEQ\": 8, \"LQI\": 107, \"ROLE\": \"Rx\"}, {\"SEQ\": 9, \"LQI\": 107, \"ROLE\": \"Rx\"}, {\"SEQ\": 10, \"LQI\": 107, \"ROLE\": \"Rx\"}, {\"SEQ\": 11, \"LQI\": 107, \"ROLE\": \"Rx\"}, {\"SEQ\": 12, \"LQI\": 108, \"ROLE\": \"Rx\"}, {\"SEQ\": 13, \"LQI\": 107, \"ROLE\": \"Rx\"}, {\"SEQ\": 14, \"LQI\": 105, \"ROLE\": \"Rx\"}, {\"SEQ\": 15, \"LQI\": 108, \"ROLE\": \"Rx\"}, {\"SEQ\": 16, \"LQI\": 107, \"ROLE\": \"Rx\"}, {\"SEQ\": 17, \"LQI\": 106, \"ROLE\": \"Rx\"}, {\"SEQ\": 18, \"LQI\": 107, \"ROLE\": \"Rx\"}, {\"SEQ\": 19, \"LQI\": 107, \"ROLE\": \"Rx\"}, {\"SEQ\": 20, \"LQI\": 107, \"ROLE\": \"Rx\"}, {\"SEQ\": 21, \"LQI\": 107, \"ROLE\": \"Rx\"}, {\"SEQ\": 22, \"LQI\": 107, \"ROLE\": \"Rx\"}, {\"SEQ\": 23, \"LQI\": 107, \"ROLE\": \"Rx\"}, {\"SEQ\": 24, \"LQI\": 108, \"ROLE\": \"Rx\"}, {\"SEQ\": 25, \"LQI\": 106, \"ROLE\": \"Rx\"}, {\"SEQ\": 26, \"LQI\": 108, \"ROLE\": \"Rx\"}, {\"SEQ\": 27, \"LQI\": 106, \"ROLE\": \"Rx\"}, {\"SEQ\": 28, \"LQI\": 107, \"ROLE\": \"Rx\"}, {\"SEQ\": 29, \"LQI\": 108, \"ROLE\": \"Rx\"}, {\"SEQ\": 30, \"LQI\": 107, \"ROLE\": \"Rx\"}, {\"SEQ\": 31, \"LQI\": 107, \"ROLE\": \"Rx\"}, {\"SEQ\": 32, \"LQI\": 107, \"ROLE\": \"Rx\"}, {\"SEQ\": 33, \"LQI\": 107, \"ROLE\": \"Rx\"}, {\"SEQ\": 34, \"LQI\": 107, \"ROLE\": \"Rx\"}, {\"SEQ\": 35, \"LQI\": 107, \"ROLE\": \"Rx\"}, {\"SEQ\": 36, \"LQI\": 108, \"ROLE\": \"Rx\"}, {\"SEQ\": 37, \"LQI\": 107, \"ROLE\": \"Rx\"}, {\"SEQ\": 38, \"LQI\": 108, \"ROLE\": \"Rx\"}, {\"SEQ\": 39, \"LQI\": 107, \"ROLE\": \"Rx\"}, {\"SEQ\": 40, \"LQI\": 108, \"ROLE\": \"Rx\"}, {\"SEQ\": 41, \"LQI\": 107, \"ROLE\": \"Rx\"}, {\"SEQ\": 42, \"LQI\": 108, \"ROLE\": \"Rx\"}, {\"SEQ\": 43, \"LQI\": 107, \"ROLE\": \"Rx\"}, {\"SEQ\": 44, \"LQI\": 108, \"ROLE\": \"Rx\"}, {\"SEQ\": 45, \"LQI\": 108, \"ROLE\": \"Rx\"}]}}, {\"mode\": \"vega-lite\"});\n",
       "</script>"
      ],
      "text/plain": [
       "alt.Chart(...)"
      ]
     },
     "execution_count": 8,
     "metadata": {},
     "output_type": "execute_result"
    }
   ],
   "source": [
    "LQI_df = logs.loc[((logs[\"ACK\"]==0) & (logs[\"ROLE\"]==\"Rx\")) | ((logs[\"ACK\"]==240) & (logs[\"ROLE\"]==\"Tx\"))][[\"SEQ\", \"LQI\", \"ROLE\"]]\n",
    "\n",
    "alt.Chart(LQI_df, title=f\"LQI Values in Scenario 1 Experiment {experiment}\").mark_point(filled=True).encode(\n",
    "    x=\"SEQ:O\",\n",
    "    y=alt.Y(\"LQI:Q\", scale=alt.Scale(domain=(min(LQI_df[\"LQI\"])-5, max(LQI_df[\"LQI\"])+5))),\n",
    "    color=\"ROLE:N\"\n",
    ")"
   ]
  },
  {
   "cell_type": "code",
   "execution_count": 9,
   "id": "0f7574a3-f5e0-402f-b205-880023d6cbcf",
   "metadata": {},
   "outputs": [
    {
     "data": {
      "text/html": [
       "\n",
       "<div id=\"altair-viz-9eed72c7522f4e4c993a0fe2afcb4da0\"></div>\n",
       "<script type=\"text/javascript\">\n",
       "  var VEGA_DEBUG = (typeof VEGA_DEBUG == \"undefined\") ? {} : VEGA_DEBUG;\n",
       "  (function(spec, embedOpt){\n",
       "    let outputDiv = document.currentScript.previousElementSibling;\n",
       "    if (outputDiv.id !== \"altair-viz-9eed72c7522f4e4c993a0fe2afcb4da0\") {\n",
       "      outputDiv = document.getElementById(\"altair-viz-9eed72c7522f4e4c993a0fe2afcb4da0\");\n",
       "    }\n",
       "    const paths = {\n",
       "      \"vega\": \"https://cdn.jsdelivr.net/npm//vega@5?noext\",\n",
       "      \"vega-lib\": \"https://cdn.jsdelivr.net/npm//vega-lib?noext\",\n",
       "      \"vega-lite\": \"https://cdn.jsdelivr.net/npm//vega-lite@4.17.0?noext\",\n",
       "      \"vega-embed\": \"https://cdn.jsdelivr.net/npm//vega-embed@6?noext\",\n",
       "    };\n",
       "\n",
       "    function maybeLoadScript(lib, version) {\n",
       "      var key = `${lib.replace(\"-\", \"\")}_version`;\n",
       "      return (VEGA_DEBUG[key] == version) ?\n",
       "        Promise.resolve(paths[lib]) :\n",
       "        new Promise(function(resolve, reject) {\n",
       "          var s = document.createElement('script');\n",
       "          document.getElementsByTagName(\"head\")[0].appendChild(s);\n",
       "          s.async = true;\n",
       "          s.onload = () => {\n",
       "            VEGA_DEBUG[key] = version;\n",
       "            return resolve(paths[lib]);\n",
       "          };\n",
       "          s.onerror = () => reject(`Error loading script: ${paths[lib]}`);\n",
       "          s.src = paths[lib];\n",
       "        });\n",
       "    }\n",
       "\n",
       "    function showError(err) {\n",
       "      outputDiv.innerHTML = `<div class=\"error\" style=\"color:red;\">${err}</div>`;\n",
       "      throw err;\n",
       "    }\n",
       "\n",
       "    function displayChart(vegaEmbed) {\n",
       "      vegaEmbed(outputDiv, spec, embedOpt)\n",
       "        .catch(err => showError(`Javascript Error: ${err.message}<br>This usually means there's a typo in your chart specification. See the javascript console for the full traceback.`));\n",
       "    }\n",
       "\n",
       "    if(typeof define === \"function\" && define.amd) {\n",
       "      requirejs.config({paths});\n",
       "      require([\"vega-embed\"], displayChart, err => showError(`Error loading script: ${err.message}`));\n",
       "    } else {\n",
       "      maybeLoadScript(\"vega\", \"5\")\n",
       "        .then(() => maybeLoadScript(\"vega-lite\", \"4.17.0\"))\n",
       "        .then(() => maybeLoadScript(\"vega-embed\", \"6\"))\n",
       "        .catch(showError)\n",
       "        .then(() => displayChart(vegaEmbed));\n",
       "    }\n",
       "  })({\"config\": {\"view\": {\"continuousWidth\": 400, \"continuousHeight\": 300}}, \"data\": {\"name\": \"data-b01b75b377914661925ac759009fee95\"}, \"mark\": \"bar\", \"encoding\": {\"color\": {\"field\": \"ROLE\", \"type\": \"nominal\"}, \"x\": {\"field\": \"ROLE\", \"type\": \"nominal\"}, \"y\": {\"aggregate\": \"variance\", \"field\": \"LQI\", \"type\": \"quantitative\"}}, \"title\": \"LQII Variances Scenario 1 Experiment 1\", \"$schema\": \"https://vega.github.io/schema/vega-lite/v4.17.0.json\", \"datasets\": {\"data-b01b75b377914661925ac759009fee95\": [{\"SEQ\": 1, \"LQI\": 107, \"ROLE\": \"Tx\"}, {\"SEQ\": 2, \"LQI\": 108, \"ROLE\": \"Tx\"}, {\"SEQ\": 3, \"LQI\": 108, \"ROLE\": \"Tx\"}, {\"SEQ\": 4, \"LQI\": 107, \"ROLE\": \"Tx\"}, {\"SEQ\": 5, \"LQI\": 108, \"ROLE\": \"Tx\"}, {\"SEQ\": 6, \"LQI\": 108, \"ROLE\": \"Tx\"}, {\"SEQ\": 7, \"LQI\": 107, \"ROLE\": \"Tx\"}, {\"SEQ\": 8, \"LQI\": 106, \"ROLE\": \"Tx\"}, {\"SEQ\": 9, \"LQI\": 107, \"ROLE\": \"Tx\"}, {\"SEQ\": 10, \"LQI\": 107, \"ROLE\": \"Tx\"}, {\"SEQ\": 11, \"LQI\": 106, \"ROLE\": \"Tx\"}, {\"SEQ\": 12, \"LQI\": 108, \"ROLE\": \"Tx\"}, {\"SEQ\": 13, \"LQI\": 106, \"ROLE\": \"Tx\"}, {\"SEQ\": 14, \"LQI\": 107, \"ROLE\": \"Tx\"}, {\"SEQ\": 15, \"LQI\": 106, \"ROLE\": \"Tx\"}, {\"SEQ\": 16, \"LQI\": 106, \"ROLE\": \"Tx\"}, {\"SEQ\": 17, \"LQI\": 107, \"ROLE\": \"Tx\"}, {\"SEQ\": 18, \"LQI\": 107, \"ROLE\": \"Tx\"}, {\"SEQ\": 19, \"LQI\": 108, \"ROLE\": \"Tx\"}, {\"SEQ\": 20, \"LQI\": 107, \"ROLE\": \"Tx\"}, {\"SEQ\": 21, \"LQI\": 108, \"ROLE\": \"Tx\"}, {\"SEQ\": 22, \"LQI\": 106, \"ROLE\": \"Tx\"}, {\"SEQ\": 23, \"LQI\": 108, \"ROLE\": \"Tx\"}, {\"SEQ\": 24, \"LQI\": 105, \"ROLE\": \"Tx\"}, {\"SEQ\": 25, \"LQI\": 107, \"ROLE\": \"Tx\"}, {\"SEQ\": 26, \"LQI\": 107, \"ROLE\": \"Tx\"}, {\"SEQ\": 27, \"LQI\": 107, \"ROLE\": \"Tx\"}, {\"SEQ\": 28, \"LQI\": 107, \"ROLE\": \"Tx\"}, {\"SEQ\": 29, \"LQI\": 108, \"ROLE\": \"Tx\"}, {\"SEQ\": 30, \"LQI\": 107, \"ROLE\": \"Tx\"}, {\"SEQ\": 31, \"LQI\": 108, \"ROLE\": \"Tx\"}, {\"SEQ\": 32, \"LQI\": 108, \"ROLE\": \"Tx\"}, {\"SEQ\": 33, \"LQI\": 108, \"ROLE\": \"Tx\"}, {\"SEQ\": 34, \"LQI\": 108, \"ROLE\": \"Tx\"}, {\"SEQ\": 35, \"LQI\": 108, \"ROLE\": \"Tx\"}, {\"SEQ\": 36, \"LQI\": 106, \"ROLE\": \"Tx\"}, {\"SEQ\": 37, \"LQI\": 108, \"ROLE\": \"Tx\"}, {\"SEQ\": 38, \"LQI\": 107, \"ROLE\": \"Tx\"}, {\"SEQ\": 39, \"LQI\": 107, \"ROLE\": \"Tx\"}, {\"SEQ\": 40, \"LQI\": 107, \"ROLE\": \"Tx\"}, {\"SEQ\": 41, \"LQI\": 107, \"ROLE\": \"Tx\"}, {\"SEQ\": 42, \"LQI\": 107, \"ROLE\": \"Tx\"}, {\"SEQ\": 43, \"LQI\": 108, \"ROLE\": \"Tx\"}, {\"SEQ\": 44, \"LQI\": 108, \"ROLE\": \"Tx\"}, {\"SEQ\": 45, \"LQI\": 108, \"ROLE\": \"Tx\"}, {\"SEQ\": 1, \"LQI\": 108, \"ROLE\": \"Rx\"}, {\"SEQ\": 2, \"LQI\": 106, \"ROLE\": \"Rx\"}, {\"SEQ\": 3, \"LQI\": 107, \"ROLE\": \"Rx\"}, {\"SEQ\": 4, \"LQI\": 107, \"ROLE\": \"Rx\"}, {\"SEQ\": 5, \"LQI\": 108, \"ROLE\": \"Rx\"}, {\"SEQ\": 6, \"LQI\": 108, \"ROLE\": \"Rx\"}, {\"SEQ\": 7, \"LQI\": 106, \"ROLE\": \"Rx\"}, {\"SEQ\": 8, \"LQI\": 107, \"ROLE\": \"Rx\"}, {\"SEQ\": 9, \"LQI\": 107, \"ROLE\": \"Rx\"}, {\"SEQ\": 10, \"LQI\": 107, \"ROLE\": \"Rx\"}, {\"SEQ\": 11, \"LQI\": 107, \"ROLE\": \"Rx\"}, {\"SEQ\": 12, \"LQI\": 108, \"ROLE\": \"Rx\"}, {\"SEQ\": 13, \"LQI\": 107, \"ROLE\": \"Rx\"}, {\"SEQ\": 14, \"LQI\": 105, \"ROLE\": \"Rx\"}, {\"SEQ\": 15, \"LQI\": 108, \"ROLE\": \"Rx\"}, {\"SEQ\": 16, \"LQI\": 107, \"ROLE\": \"Rx\"}, {\"SEQ\": 17, \"LQI\": 106, \"ROLE\": \"Rx\"}, {\"SEQ\": 18, \"LQI\": 107, \"ROLE\": \"Rx\"}, {\"SEQ\": 19, \"LQI\": 107, \"ROLE\": \"Rx\"}, {\"SEQ\": 20, \"LQI\": 107, \"ROLE\": \"Rx\"}, {\"SEQ\": 21, \"LQI\": 107, \"ROLE\": \"Rx\"}, {\"SEQ\": 22, \"LQI\": 107, \"ROLE\": \"Rx\"}, {\"SEQ\": 23, \"LQI\": 107, \"ROLE\": \"Rx\"}, {\"SEQ\": 24, \"LQI\": 108, \"ROLE\": \"Rx\"}, {\"SEQ\": 25, \"LQI\": 106, \"ROLE\": \"Rx\"}, {\"SEQ\": 26, \"LQI\": 108, \"ROLE\": \"Rx\"}, {\"SEQ\": 27, \"LQI\": 106, \"ROLE\": \"Rx\"}, {\"SEQ\": 28, \"LQI\": 107, \"ROLE\": \"Rx\"}, {\"SEQ\": 29, \"LQI\": 108, \"ROLE\": \"Rx\"}, {\"SEQ\": 30, \"LQI\": 107, \"ROLE\": \"Rx\"}, {\"SEQ\": 31, \"LQI\": 107, \"ROLE\": \"Rx\"}, {\"SEQ\": 32, \"LQI\": 107, \"ROLE\": \"Rx\"}, {\"SEQ\": 33, \"LQI\": 107, \"ROLE\": \"Rx\"}, {\"SEQ\": 34, \"LQI\": 107, \"ROLE\": \"Rx\"}, {\"SEQ\": 35, \"LQI\": 107, \"ROLE\": \"Rx\"}, {\"SEQ\": 36, \"LQI\": 108, \"ROLE\": \"Rx\"}, {\"SEQ\": 37, \"LQI\": 107, \"ROLE\": \"Rx\"}, {\"SEQ\": 38, \"LQI\": 108, \"ROLE\": \"Rx\"}, {\"SEQ\": 39, \"LQI\": 107, \"ROLE\": \"Rx\"}, {\"SEQ\": 40, \"LQI\": 108, \"ROLE\": \"Rx\"}, {\"SEQ\": 41, \"LQI\": 107, \"ROLE\": \"Rx\"}, {\"SEQ\": 42, \"LQI\": 108, \"ROLE\": \"Rx\"}, {\"SEQ\": 43, \"LQI\": 107, \"ROLE\": \"Rx\"}, {\"SEQ\": 44, \"LQI\": 108, \"ROLE\": \"Rx\"}, {\"SEQ\": 45, \"LQI\": 108, \"ROLE\": \"Rx\"}]}}, {\"mode\": \"vega-lite\"});\n",
       "</script>"
      ],
      "text/plain": [
       "alt.Chart(...)"
      ]
     },
     "execution_count": 9,
     "metadata": {},
     "output_type": "execute_result"
    }
   ],
   "source": [
    "alt.Chart(LQI_df, title=f\"LQII Variances Scenario 1 Experiment {experiment}\").mark_bar().encode(\n",
    "    x=\"ROLE:N\",\n",
    "    y=\"variance(LQI)\",\n",
    "    color=\"ROLE:N\"\n",
    ")"
   ]
  }
 ],
 "metadata": {
  "kernelspec": {
   "display_name": "Python 3 (ipykernel)",
   "language": "python",
   "name": "python3"
  },
  "language_info": {
   "codemirror_mode": {
    "name": "ipython",
    "version": 3
   },
   "file_extension": ".py",
   "mimetype": "text/x-python",
   "name": "python",
   "nbconvert_exporter": "python",
   "pygments_lexer": "ipython3",
   "version": "3.11.1"
  }
 },
 "nbformat": 4,
 "nbformat_minor": 5
}
